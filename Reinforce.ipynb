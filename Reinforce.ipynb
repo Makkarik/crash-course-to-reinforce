{
 "cells": [
  {
   "cell_type": "markdown",
   "metadata": {},
   "source": [
    "## Parallel REINFORCE\n",
    "---"
   ]
  },
  {
   "cell_type": "markdown",
   "metadata": {},
   "source": [
    "Let's recall the REINFORCE algorithm:\n",
    "\n",
    "$$\n",
    "\\nabla_\\theta J(\\theta) = \\mathbb{E}_{\\pi_\\theta} \\left[ \\sum_{t=0}^T \\gamma^t R_t \\nabla_\\theta \\log \\pi_\\theta(A_t|S_t) \\right],\n",
    "$$\n",
    "\n",
    "that can be approximated with Monte-Carlo methods:\n",
    "\n",
    "$$\n",
    "\\nabla_\\theta J(\\theta) \\approx \\frac{1}{N} \\sum_{i=1}^N \\sum_{t=0}^T \\gamma^t R_t^{(i)} \\nabla_\\theta \\log \\pi_\\theta(A_t^{(i)}|S_t^{(i)}).\n",
    "$$\n",
    "\n",
    "It is obvious that the sum over $t$ can not be computed in parallel, as the current state of the environment depends on the previous one. However, the sum over $i$ can be computed in parallel, as the trajectories are independent. Thus, we need to launch $N$ environments in parallel, collect the trajectories, and then compute the gradients. \n",
    "\n",
    "Unfortunately the parallelization can not be perfromed straightforwardly, as independent environments reach the terminal states at different times. Thus, we need to synchronize the environments at the end of each episode. There are two possible ways to do that: truncation and padding.\n",
    "\n",
    "In case of truncation, we terminates the current episode when the first environment reaches the terminal state. This approach is not preferable as it leads to the loss of information, produced by the environments that have not reached the terminal state yet. Padding, on the other hand, is more preferable, as it allows to collect the full trajectories from all the environments. The only thing we need to do is to mask the gradients of the environments that have reached the terminal state."
   ]
  },
  {
   "cell_type": "markdown",
   "metadata": {},
   "source": [
    "### Mathematical rationale\n",
    "\n",
    "Recalling the nabla distributive function property:\n",
    "\n",
    "$$ \\nabla_\\theta \\left( \\alpha f(\\theta) \\right) = \\alpha \\nabla_\\theta f(\\theta), $$\n",
    "\n",
    "therefore \n",
    "\n",
    "$$ \n",
    "\\nabla_\\theta \\left(0 \\cdot f(\\theta) \\right) \\equiv 0 \\cdot \\nabla_\\theta f(\\theta) \\equiv 0, \\\\\n",
    "\\nabla_\\theta \\left(1 \\cdot f(\\theta) \\right) \\equiv 1 \\cdot \\nabla_\\theta f(\\theta) \\equiv \\nabla_\\theta f(\\theta).\n",
    "$$\n",
    "\n",
    "Hence, by introducing the padding function $H\\left(S_t^{(i)}\\right)$ we can nullify the gradients of the environments that have reached the terminal state without stopping other environments. The padding function is defined as follows:\n",
    "\n",
    "$$\n",
    "H\\left(S_t^{(i)}\\right) = \\begin{cases}\n",
    "1, & \\text{if } S_k^{(i)} \\text{ is not terminal } \\forall k \\in \\{0,...,t-1\\} \\\\\n",
    "0, & \\text{otherwise}.\n",
    "\\end{cases}\n",
    "$$\n",
    "\n",
    "Thus, the gradient for the $\\theta$ for the given environment becomes zero as soon as the environment reaches the terminal state. The final gradient is computed as follows:\n",
    "\n",
    "$$\n",
    "\\nabla_\\theta J(\\theta) \\approx \\frac{1}{N} \\sum_{i=1}^N \\sum_{t=0}^T \\gamma^t R_t^{(i)} H\\left(S_t^{(i)}\\right) \\nabla_\\theta \\log \\pi_\\theta\\left(A_t^{(i)}|S_t^{(i)}\\right).\n",
    "$$ "
   ]
  },
  {
   "cell_type": "markdown",
   "metadata": {},
   "source": [
    "### Implementation\n",
    "\n",
    "It is know that the gymnasium environments yield tuple of five elements for each step:\n",
    "\n",
    "```python\n",
    "obs, reward, terminated, truncated, info = env.step(action.item())\n",
    "```\n",
    "\n",
    "For the vectorized enviornment, the first dimension of each element is equal to the number of the environments, which is the $N$ in the formula above. Asssuming that, the definition of padding function becomes evident\n",
    "\n",
    "```python\n",
    "class Padding:\n",
    "\n",
    "    def __init__(self, size: int):\n",
    "        \"\"\"Initialize appding function\"\"\"\n",
    "        self._size = size\n",
    "        self.reset()\n",
    "\n",
    "    def reset(self):\n",
    "        \"\"\"Reset the padding function\"\"\"\n",
    "        self._is_terminated = np.full(size=self._size, False)\n",
    "\n",
    "    def __call__(self, terminated: np.ndarray, truncated: np.ndarray) -> torch.Tensor, bool:\n",
    "        \"\"\"Yields the padding values\n",
    "        \n",
    "        Parameters\n",
    "        ----------\n",
    "        terminated : np.ndarray\n",
    "            The array of the terminal states\n",
    "        truncated : np.ndarray\n",
    "            The array of the truncated states\n",
    "        \n",
    "        Returns\n",
    "        -------\n",
    "        np.ndarray\n",
    "            The padding values (1 if value should be used, 0 otherwise)\n",
    "        bool\n",
    "            The total termination flag. If True, then all the states have reached the\n",
    "            terminal states and the training loop should be stopped.\n",
    "        \"\"\"\n",
    "        # As the function has a lag, we need firstly yield the previous values\n",
    "        output = torch.Tensor(self._is_terminated.astype(int))\n",
    "        # Then we update the values\n",
    "        done = np.logical_or(terminated, truncated)\n",
    "        self._is_terminated = np.logical_or(self._is_terminated, done)\n",
    "        # As termination flag checked after the step, we can yield it, using the updated\n",
    "        # values\n",
    "        total_termination = np.all(self._is_terminated)\n",
    "        return output, total_termination \n",
    "\n",
    "```\n",
    "\n",
    "In training loop the function can be used as following:\n",
    "\n",
    "```python\n",
    "\n",
    "padding = Padding(size=N)\n",
    "policy: torch.nn.Module = Policy()\n",
    "\n",
    "...\n",
    "\n",
    "gamma = 1\n",
    "for i in range(iterations):\n",
    "    optimizer.zero_grad()\n",
    "\n",
    "    padding.reset()\n",
    "    memory.reset()\n",
    "    obs, _ = envs.reset()\n",
    "    losses = torch.zeros(N)\n",
    "    \n",
    "    for t in range(T):\n",
    "\n",
    "        action, log_probs = policy(obs)\n",
    "        obs, rewards, terminated, truncated, _ = env.step(action.detached().numpy())\n",
    "        padding_values, total_termination = padding(terminated, truncated)\n",
    "\n",
    "        memory.append(log_probs, rewards, padding_values)\n",
    "\n",
    "        ...\n",
    "\n",
    "        if total_termination:\n",
    "            break\n",
    "    \n",
    "    loss = memory.loss()\n",
    "    loss.backward()\n",
    "    optimizer.step()\n",
    "```\n",
    "\n",
    "For simplicity, the padding module can be integrated into `memory` function to reset it without a separated call.\n"
   ]
  },
  {
   "cell_type": "code",
   "execution_count": null,
   "metadata": {},
   "outputs": [],
   "source": [
    "import os\n",
    "import random\n",
    "\n",
    "import gymnasium as gym\n",
    "import torch\n",
    "\n",
    "from src.agent import PolicyNetworkContinuous, PolicyNetworkDiscrete, train, validate\n",
    "from src.envs import make_env, make_envs\n",
    "from src.utils import mp4_to_gif\n",
    "\n",
    "device = \"cuda\" if torch.cuda.is_available() else \"cpu\""
   ]
  },
  {
   "cell_type": "code",
   "execution_count": null,
   "metadata": {},
   "outputs": [],
   "source": [
    "SEED = 42\n",
    "torch.manual_seed(SEED)\n",
    "random.seed(SEED)"
   ]
  },
  {
   "cell_type": "markdown",
   "metadata": {},
   "source": [
    "## Implementation for the discrete environment\n",
    "---"
   ]
  },
  {
   "cell_type": "markdown",
   "metadata": {},
   "source": [
    "### Training"
   ]
  },
  {
   "cell_type": "code",
   "execution_count": null,
   "metadata": {},
   "outputs": [],
   "source": [
    "THREADS = 5\n",
    "ITERATIONS = 10\n",
    "GAMMA = 0.90\n",
    "\n",
    "\n",
    "FOLDER = \"./results/reinforce\"\n",
    "\n",
    "CONFIG = {\n",
    "    \"observation\": {\n",
    "        # Use an occupancy grid. The grid size and features can be adjusted.\n",
    "        \"type\": \"OccupancyGrid\",  # or \"Kinematics\" / \"TimeToCollision\"\n",
    "        \"grid_size\": [\n",
    "            [-5, 5],\n",
    "            [-5, 5],\n",
    "        ],  # Two dimensions: x from -5 to 5 and y from -5 to 5\n",
    "        \"grid_step\": [2.0, 2.0],  # Specify step for each dimension\n",
    "        \"features\": [\"presence\", \"vx\"],  # presence and relative speed features\n",
    "    },\n",
    "    \"simulation_frequency\": 15,  # adjust as needed\n",
    "    \"policy_frequency\": 5,\n",
    "    \"duration\": 40,  # initial episode duration in seconds\n",
    "    \"action\": {\"type\": \"DiscreteMetaAction\"},  # use the discrete meta-action space\n",
    "    \"offscreen_rendering\": True,\n",
    "}\n",
    "\n",
    "MAX_LENGTH = CONFIG[\"duration\"] * CONFIG[\"policy_frequency\"]"
   ]
  },
  {
   "cell_type": "code",
   "execution_count": null,
   "metadata": {},
   "outputs": [],
   "source": [
    "envs = make_envs(\"highway-v0\", THREADS, config=CONFIG)\n",
    "input_dim = envs.observation_space.shape[1]\n",
    "output_dim = envs.action_space[0].n"
   ]
  },
  {
   "cell_type": "code",
   "execution_count": 5,
   "metadata": {},
   "outputs": [],
   "source": [
    "HIDDEN_DIM = 64\n",
    "LEARNING_RATE = 1e-3\n",
    "\n",
    "policy = PolicyNetworkDiscrete(input_dim, HIDDEN_DIM, output_dim)\n",
    "optimizer = torch.optim.Adam(policy.parameters(), lr=LEARNING_RATE)"
   ]
  },
  {
   "cell_type": "code",
   "execution_count": 6,
   "metadata": {},
   "outputs": [
    {
     "name": "stderr",
     "output_type": "stream",
     "text": [
      "Iteration  1/5:  59%|█████▉    | 117/199 [00:33<00:23,  3.50it/s]\n",
      "Iteration  2/5:  47%|████▋     | 94/199 [00:29<00:32,  3.24it/s, length=55.7, reward=44.1]\n",
      "Iteration  3/5:  93%|█████████▎| 185/199 [01:20<00:06,  2.30it/s, length=37.4, reward=29.8]\n",
      "Iteration  4/5:  71%|███████   | 141/199 [00:55<00:23,  2.52it/s, length=70.9, reward=56.5]\n",
      "Iteration  5/5:  53%|█████▎    | 105/199 [00:40<00:36,  2.58it/s, length=51.3, reward=40.3]\n"
     ]
    }
   ],
   "source": [
    "model, results = train(policy, envs, optimizer, GAMMA, ITERATIONS, device, SEED)\n",
    "torch.save(model.state_dict(), os.path.join(FOLDER, \"discrete-policy.pt\"))"
   ]
  },
  {
   "cell_type": "markdown",
   "metadata": {},
   "source": [
    "### Inference"
   ]
  },
  {
   "cell_type": "code",
   "execution_count": null,
   "metadata": {},
   "outputs": [
    {
     "name": "stderr",
     "output_type": "stream",
     "text": [
      "c:\\Users\\mekor\\Documents\\Skoltech\\Term-7\\RL\\crash-course-to-reinforce\\.venv\\Lib\\site-packages\\gymnasium\\wrappers\\rendering.py:283: UserWarning: \u001b[33mWARN: Overwriting existing videos at c:\\Users\\mekor\\Documents\\Skoltech\\Term-7\\RL\\crash-course-to-reinforce\\results\\reinforce folder (try specifying a different `video_folder` for the `RecordVideo` wrapper if this is not desired)\u001b[0m\n",
      "  logger.warn(\n"
     ]
    },
    {
     "name": "stderr",
     "output_type": "stream",
     "text": [
      "Validation: 100%|██████████| 5/5 [01:11<00:00, 14.30s/it]\n"
     ]
    }
   ],
   "source": [
    "env = make_env(\"highway-v0\", config=CONFIG)\n",
    "env = gym.wrappers.RecordVideo(\n",
    "    env,\n",
    "    video_folder=FOLDER,\n",
    "    episode_trigger=lambda x: x == 0 or x == (ITERATIONS - 2),\n",
    "    name_prefix=\"discrete-agent\",\n",
    "    video_length=MAX_LENGTH,\n",
    ")\n",
    "model = PolicyNetworkDiscrete(input_dim, HIDDEN_DIM, output_dim)\n",
    "model.load_state_dict(\n",
    "    torch.load(os.path.join(FOLDER, \"discrete-policy.pt\"), weights_only=False)\n",
    ")\n",
    "results = validate(model, env, n_episodes=ITERATIONS, device=device)\n",
    "mp4_to_gif(FOLDER)"
   ]
  },
  {
   "cell_type": "markdown",
   "metadata": {},
   "source": [
    "<p align=\"center\">\n",
    "    <img width=\"600\" src=\"results\\reinforce\\discrete-agent-episode-8.gif\" alt=\"Discrete action space policy\">\n",
    "    <p align=\"center\">Fig. 1 - Policy in 5Hz environment with discrete action space</p>\n",
    "</p>"
   ]
  },
  {
   "cell_type": "code",
   "execution_count": 8,
   "metadata": {},
   "outputs": [
    {
     "data": {
      "text/plain": [
       "{'reward': deque([np.float64(142.5368151561697),\n",
       "        np.float64(146.98125960061418),\n",
       "        np.float64(133.64792626728143),\n",
       "        np.float64(133.64792626728143),\n",
       "        np.float64(133.64792626728143)],\n",
       "       maxlen=5),\n",
       " 'length': deque([200, 200, 200, 200, 200], maxlen=5),\n",
       " 'norm_length': [1.0, 1.0, 1.0, 1.0, 1.0]}"
      ]
     },
     "execution_count": 8,
     "metadata": {},
     "output_type": "execute_result"
    }
   ],
   "source": [
    "results"
   ]
  },
  {
   "cell_type": "code",
   "execution_count": null,
   "metadata": {},
   "outputs": [
    {
     "name": "stderr",
     "output_type": "stream",
     "text": [
      "Validation: 100%|██████████| 5/5 [01:17<00:00, 15.41s/it]\n"
     ]
    }
   ],
   "source": [
    "envs = make_envs(\"highway-v0\", THREADS, config=CONFIG)\n",
    "results = validate(model, env, n_episodes=ITERATIONS, device=device)"
   ]
  },
  {
   "cell_type": "markdown",
   "metadata": {},
   "source": [
    "## Implementation for the continious environment\n",
    "---"
   ]
  },
  {
   "cell_type": "markdown",
   "metadata": {},
   "source": [
    "### Training"
   ]
  },
  {
   "cell_type": "code",
   "execution_count": null,
   "metadata": {},
   "outputs": [],
   "source": [
    "CONFIG[\"action\"] = {\"type\": \"ContinuousAction\"}\n",
    "envs = make_envs(\"highway-v0\", THREADS, config=CONFIG)\n",
    "output_dim = envs.action_space._shape[1]"
   ]
  },
  {
   "cell_type": "code",
   "execution_count": null,
   "metadata": {},
   "outputs": [
    {
     "name": "stderr",
     "output_type": "stream",
     "text": [
      "Iteration  1/10: 100%|██████████| 199/199 [01:09<00:00,  2.87it/s]\n",
      "Iteration  2/10: 100%|██████████| 199/199 [01:19<00:00,  2.49it/s, length=199, reward=11.1]\n",
      "Iteration  3/10: 100%|██████████| 199/199 [01:13<00:00,  2.69it/s, length=199, reward=10.1]\n",
      "Iteration  4/10: 100%|██████████| 199/199 [01:16<00:00,  2.61it/s, length=199, reward=12.9]\n",
      "Iteration  5/10:  11%|█         | 21/199 [00:08<01:09,  2.56it/s, length=199, reward=10.2]"
     ]
    }
   ],
   "source": [
    "policy = PolicyNetworkContinuous(input_dim, HIDDEN_DIM, output_dim)\n",
    "optimizer = torch.optim.Adam(policy.parameters(), lr=LEARNING_RATE)\n",
    "\n",
    "model, results = train(policy, envs, optimizer, GAMMA, ITERATIONS, device, SEED)\n",
    "torch.save(model.state_dict(), os.path.join(FOLDER, \"continious-policy.pt\"))"
   ]
  },
  {
   "cell_type": "markdown",
   "metadata": {},
   "source": [
    "### Inference"
   ]
  },
  {
   "cell_type": "code",
   "execution_count": null,
   "metadata": {},
   "outputs": [],
   "source": []
  }
 ],
 "metadata": {
  "kernelspec": {
   "display_name": ".venv",
   "language": "python",
   "name": "python3"
  },
  "language_info": {
   "codemirror_mode": {
    "name": "ipython",
    "version": 3
   },
   "file_extension": ".py",
   "mimetype": "text/x-python",
   "name": "python",
   "nbconvert_exporter": "python",
   "pygments_lexer": "ipython3",
   "version": "3.12.6"
  }
 },
 "nbformat": 4,
 "nbformat_minor": 2
}
